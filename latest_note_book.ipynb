{
  "nbformat": 4,
  "nbformat_minor": 5,
  "metadata": {
    "kernelspec": {
      "display_name": "Python 3",
      "language": "python",
      "name": "python3"
    },
    "language_info": {
      "codemirror_mode": {
        "name": "ipython",
        "version": 3
      },
      "file_extension": ".py",
      "mimetype": "text/x-python",
      "name": "python",
      "nbconvert_exporter": "python",
      "pygments_lexer": "ipython3",
      "version": "3.8.8"
    },
    "colab": {
      "name": "latest note book.ipynb",
      "provenance": [],
      "include_colab_link": true
    }
  },
  "cells": [
    {
      "cell_type": "markdown",
      "metadata": {
        "id": "view-in-github",
        "colab_type": "text"
      },
      "source": [
        "<a href=\"https://colab.research.google.com/github/kwanda2426/load-shortfall-regression-predict-api-template/blob/master/latest_note_book.ipynb\" target=\"_parent\"><img src=\"https://colab.research.google.com/assets/colab-badge.svg\" alt=\"Open In Colab\"/></a>"
      ]
    },
    {
      "cell_type": "markdown",
      "metadata": {
        "id": "d406b8af"
      },
      "source": [
        "# Regression Predict Student Solution\n",
        "\n",
        "© Explore Data Science Academy"
      ],
      "id": "d406b8af"
    },
    {
      "cell_type": "code",
      "metadata": {
        "id": "e36cd1ce"
      },
      "source": [
        ""
      ],
      "id": "e36cd1ce",
      "execution_count": null,
      "outputs": []
    },
    {
      "cell_type": "code",
      "metadata": {
        "id": "52b9b41e"
      },
      "source": [
        ""
      ],
      "id": "52b9b41e",
      "execution_count": null,
      "outputs": []
    },
    {
      "cell_type": "code",
      "metadata": {
        "colab": {
          "base_uri": "https://localhost:8080/"
        },
        "id": "5e430f61",
        "outputId": "ebde29c3-4e97-4b28-82d3-07fcf0e9cfd2"
      },
      "source": [
        "# Libraries for data loading, data manipulation and data visulisation\n",
        "import numpy as np\n",
        "import pandas as pd\n",
        "import matplotlib.pyplot as plt\n",
        "from matplotlib import rc\n",
        "import seaborn as sns\n",
        "from statsmodels.graphics.correlation import plot_corr\n",
        "from scipy.stats import skew\n",
        "import statistics\n",
        "#ignoring warnings\n",
        "import warnings\n",
        "warnings.simplefilter(action='ignore')\n",
        "import datetime\n",
        "\n",
        "# Libraries for data preparation and model building\n",
        "import statsmodels.formula.api as sm\n",
        "from sklearn import metrics\n",
        "from sklearn.metrics import mean_squared_error\n",
        "from sklearn.tree import DecisionTreeRegressor\n",
        "from sklearn.compose import ColumnTransformer\n",
        "from sklearn.ensemble import RandomForestRegressor\n",
        "from sklearn.linear_model import Lasso, Ridge, LinearRegression\n",
        "from sklearn.model_selection import train_test_split, KFold, cross_val_score, GridSearchCV\n",
        "from sklearn.preprocessing import LabelEncoder, OneHotEncoder, StandardScaler, PolynomialFeatures\n",
        "# saving my model\n",
        "import pickle"
      ],
      "id": "5e430f61",
      "execution_count": 2,
      "outputs": [
        {
          "output_type": "stream",
          "name": "stderr",
          "text": [
            "/usr/local/lib/python3.7/dist-packages/statsmodels/tools/_testing.py:19: FutureWarning: pandas.util.testing is deprecated. Use the functions in the public API at pandas.testing instead.\n",
            "  import pandas.util.testing as tm\n"
          ]
        }
      ]
    },
    {
      "cell_type": "markdown",
      "metadata": {
        "id": "46f7e8ff"
      },
      "source": [
        "# Loading the Data"
      ],
      "id": "46f7e8ff"
    },
    {
      "cell_type": "code",
      "metadata": {
        "id": "27ea105f"
      },
      "source": [
        "#making sure that we can see all rows and cols\n",
        "pd.set_option('display.max_columns', None)\n",
        "pd.set_option('display.max_rows', None)\n",
        "#reading the data from the csv\n",
        "\n",
        "df_train = pd.read_csv('https://raw.githubusercontent.com/kwanda2426/load-shortfall-regression-predict-api-template/master/Notebook/df_train.csv')\n",
        "df_test = pd.read_csv('https://raw.githubusercontent.com/kwanda2426/load-shortfall-regression-predict-api-template/master/Notebook/df_test.csv')\n",
        "test_df = df_test.copy()\n",
        "train_df = df_train.copy()\n",
        "\n"
      ],
      "id": "27ea105f",
      "execution_count": 3,
      "outputs": []
    },
    {
      "cell_type": "code",
      "metadata": {
        "id": "96f79fd9"
      },
      "source": [
        ""
      ],
      "id": "96f79fd9",
      "execution_count": null,
      "outputs": []
    },
    {
      "cell_type": "code",
      "metadata": {
        "id": "9835a499"
      },
      "source": [
        ""
      ],
      "id": "9835a499",
      "execution_count": null,
      "outputs": []
    },
    {
      "cell_type": "markdown",
      "metadata": {
        "id": "3cd6dc6b"
      },
      "source": [
        "# Preprocessing"
      ],
      "id": "3cd6dc6b"
    },
    {
      "cell_type": "markdown",
      "metadata": {
        "id": "f8fb27f2"
      },
      "source": [
        "It is a good idea to concatenate the train and test data to ensure that any changes are consistent across the train and test data."
      ],
      "id": "f8fb27f2"
    },
    {
      "cell_type": "code",
      "metadata": {
        "id": "770bb026"
      },
      "source": [
        "# Combining the train and test data sets\n",
        "\n",
        "df_concat = pd.concat([train_df, test_df])\n"
      ],
      "id": "770bb026",
      "execution_count": null,
      "outputs": []
    },
    {
      "cell_type": "code",
      "metadata": {
        "id": "6f9b5e9b",
        "outputId": "800469fd-8e44-4445-dd0e-1a7a0e5d32ad"
      },
      "source": [
        "# Checking the shape of the new data frame\n",
        "\n",
        "df_concat.shape"
      ],
      "id": "6f9b5e9b",
      "execution_count": null,
      "outputs": [
        {
          "data": {
            "text/plain": [
              "(11683, 49)"
            ]
          },
          "execution_count": 76,
          "metadata": {},
          "output_type": "execute_result"
        }
      ]
    },
    {
      "cell_type": "code",
      "metadata": {
        "id": "b291098e",
        "outputId": "6f1334d1-a9d9-4da9-b554-7ed190a5a64b"
      },
      "source": [
        "#Show the first five rows of the dataset\n",
        "\n",
        "df_concat.head()"
      ],
      "id": "b291098e",
      "execution_count": null,
      "outputs": [
        {
          "data": {
            "text/html": [
              "<div>\n",
              "<style scoped>\n",
              "    .dataframe tbody tr th:only-of-type {\n",
              "        vertical-align: middle;\n",
              "    }\n",
              "\n",
              "    .dataframe tbody tr th {\n",
              "        vertical-align: top;\n",
              "    }\n",
              "\n",
              "    .dataframe thead th {\n",
              "        text-align: right;\n",
              "    }\n",
              "</style>\n",
              "<table border=\"1\" class=\"dataframe\">\n",
              "  <thead>\n",
              "    <tr style=\"text-align: right;\">\n",
              "      <th></th>\n",
              "      <th>Unnamed: 0</th>\n",
              "      <th>time</th>\n",
              "      <th>Madrid_wind_speed</th>\n",
              "      <th>Valencia_wind_deg</th>\n",
              "      <th>Bilbao_rain_1h</th>\n",
              "      <th>Valencia_wind_speed</th>\n",
              "      <th>Seville_humidity</th>\n",
              "      <th>Madrid_humidity</th>\n",
              "      <th>Bilbao_clouds_all</th>\n",
              "      <th>Bilbao_wind_speed</th>\n",
              "      <th>Seville_clouds_all</th>\n",
              "      <th>Bilbao_wind_deg</th>\n",
              "      <th>Barcelona_wind_speed</th>\n",
              "      <th>Barcelona_wind_deg</th>\n",
              "      <th>Madrid_clouds_all</th>\n",
              "      <th>Seville_wind_speed</th>\n",
              "      <th>Barcelona_rain_1h</th>\n",
              "      <th>Seville_pressure</th>\n",
              "      <th>Seville_rain_1h</th>\n",
              "      <th>Bilbao_snow_3h</th>\n",
              "      <th>Barcelona_pressure</th>\n",
              "      <th>Seville_rain_3h</th>\n",
              "      <th>Madrid_rain_1h</th>\n",
              "      <th>Barcelona_rain_3h</th>\n",
              "      <th>Valencia_snow_3h</th>\n",
              "      <th>Madrid_weather_id</th>\n",
              "      <th>Barcelona_weather_id</th>\n",
              "      <th>Bilbao_pressure</th>\n",
              "      <th>Seville_weather_id</th>\n",
              "      <th>Valencia_pressure</th>\n",
              "      <th>Seville_temp_max</th>\n",
              "      <th>Madrid_pressure</th>\n",
              "      <th>Valencia_temp_max</th>\n",
              "      <th>Valencia_temp</th>\n",
              "      <th>Bilbao_weather_id</th>\n",
              "      <th>Seville_temp</th>\n",
              "      <th>Valencia_humidity</th>\n",
              "      <th>Valencia_temp_min</th>\n",
              "      <th>Barcelona_temp_max</th>\n",
              "      <th>Madrid_temp_max</th>\n",
              "      <th>Barcelona_temp</th>\n",
              "      <th>Bilbao_temp_min</th>\n",
              "      <th>Bilbao_temp</th>\n",
              "      <th>Barcelona_temp_min</th>\n",
              "      <th>Bilbao_temp_max</th>\n",
              "      <th>Seville_temp_min</th>\n",
              "      <th>Madrid_temp</th>\n",
              "      <th>Madrid_temp_min</th>\n",
              "      <th>load_shortfall_3h</th>\n",
              "    </tr>\n",
              "  </thead>\n",
              "  <tbody>\n",
              "    <tr>\n",
              "      <th>0</th>\n",
              "      <td>0</td>\n",
              "      <td>2015-01-01 03:00:00</td>\n",
              "      <td>0.666667</td>\n",
              "      <td>level_5</td>\n",
              "      <td>0.0</td>\n",
              "      <td>0.666667</td>\n",
              "      <td>74.333333</td>\n",
              "      <td>64.000000</td>\n",
              "      <td>0.0</td>\n",
              "      <td>1.000000</td>\n",
              "      <td>0.0</td>\n",
              "      <td>223.333333</td>\n",
              "      <td>6.333333</td>\n",
              "      <td>42.666667</td>\n",
              "      <td>0.0</td>\n",
              "      <td>3.333333</td>\n",
              "      <td>0.0</td>\n",
              "      <td>sp25</td>\n",
              "      <td>0.0</td>\n",
              "      <td>0.0</td>\n",
              "      <td>1036.333333</td>\n",
              "      <td>0.0</td>\n",
              "      <td>0.0</td>\n",
              "      <td>0.0</td>\n",
              "      <td>0.0</td>\n",
              "      <td>800.0</td>\n",
              "      <td>800.0</td>\n",
              "      <td>1035.000000</td>\n",
              "      <td>800.0</td>\n",
              "      <td>1002.666667</td>\n",
              "      <td>274.254667</td>\n",
              "      <td>971.333333</td>\n",
              "      <td>269.888000</td>\n",
              "      <td>269.888000</td>\n",
              "      <td>800.0</td>\n",
              "      <td>274.254667</td>\n",
              "      <td>75.666667</td>\n",
              "      <td>269.888000</td>\n",
              "      <td>281.013000</td>\n",
              "      <td>265.938000</td>\n",
              "      <td>281.013000</td>\n",
              "      <td>269.338615</td>\n",
              "      <td>269.338615</td>\n",
              "      <td>281.013000</td>\n",
              "      <td>269.338615</td>\n",
              "      <td>274.254667</td>\n",
              "      <td>265.938000</td>\n",
              "      <td>265.938000</td>\n",
              "      <td>6715.666667</td>\n",
              "    </tr>\n",
              "    <tr>\n",
              "      <th>1</th>\n",
              "      <td>1</td>\n",
              "      <td>2015-01-01 06:00:00</td>\n",
              "      <td>0.333333</td>\n",
              "      <td>level_10</td>\n",
              "      <td>0.0</td>\n",
              "      <td>1.666667</td>\n",
              "      <td>78.333333</td>\n",
              "      <td>64.666667</td>\n",
              "      <td>0.0</td>\n",
              "      <td>1.000000</td>\n",
              "      <td>0.0</td>\n",
              "      <td>221.000000</td>\n",
              "      <td>4.000000</td>\n",
              "      <td>139.000000</td>\n",
              "      <td>0.0</td>\n",
              "      <td>3.333333</td>\n",
              "      <td>0.0</td>\n",
              "      <td>sp25</td>\n",
              "      <td>0.0</td>\n",
              "      <td>0.0</td>\n",
              "      <td>1037.333333</td>\n",
              "      <td>0.0</td>\n",
              "      <td>0.0</td>\n",
              "      <td>0.0</td>\n",
              "      <td>0.0</td>\n",
              "      <td>800.0</td>\n",
              "      <td>800.0</td>\n",
              "      <td>1035.666667</td>\n",
              "      <td>800.0</td>\n",
              "      <td>1004.333333</td>\n",
              "      <td>274.945000</td>\n",
              "      <td>972.666667</td>\n",
              "      <td>271.728333</td>\n",
              "      <td>271.728333</td>\n",
              "      <td>800.0</td>\n",
              "      <td>274.945000</td>\n",
              "      <td>71.000000</td>\n",
              "      <td>271.728333</td>\n",
              "      <td>280.561667</td>\n",
              "      <td>266.386667</td>\n",
              "      <td>280.561667</td>\n",
              "      <td>270.376000</td>\n",
              "      <td>270.376000</td>\n",
              "      <td>280.561667</td>\n",
              "      <td>270.376000</td>\n",
              "      <td>274.945000</td>\n",
              "      <td>266.386667</td>\n",
              "      <td>266.386667</td>\n",
              "      <td>4171.666667</td>\n",
              "    </tr>\n",
              "    <tr>\n",
              "      <th>2</th>\n",
              "      <td>2</td>\n",
              "      <td>2015-01-01 09:00:00</td>\n",
              "      <td>1.000000</td>\n",
              "      <td>level_9</td>\n",
              "      <td>0.0</td>\n",
              "      <td>1.000000</td>\n",
              "      <td>71.333333</td>\n",
              "      <td>64.333333</td>\n",
              "      <td>0.0</td>\n",
              "      <td>1.000000</td>\n",
              "      <td>0.0</td>\n",
              "      <td>214.333333</td>\n",
              "      <td>2.000000</td>\n",
              "      <td>326.000000</td>\n",
              "      <td>0.0</td>\n",
              "      <td>2.666667</td>\n",
              "      <td>0.0</td>\n",
              "      <td>sp25</td>\n",
              "      <td>0.0</td>\n",
              "      <td>0.0</td>\n",
              "      <td>1038.000000</td>\n",
              "      <td>0.0</td>\n",
              "      <td>0.0</td>\n",
              "      <td>0.0</td>\n",
              "      <td>0.0</td>\n",
              "      <td>800.0</td>\n",
              "      <td>800.0</td>\n",
              "      <td>1036.000000</td>\n",
              "      <td>800.0</td>\n",
              "      <td>1005.333333</td>\n",
              "      <td>278.792000</td>\n",
              "      <td>974.000000</td>\n",
              "      <td>278.008667</td>\n",
              "      <td>278.008667</td>\n",
              "      <td>800.0</td>\n",
              "      <td>278.792000</td>\n",
              "      <td>65.666667</td>\n",
              "      <td>278.008667</td>\n",
              "      <td>281.583667</td>\n",
              "      <td>272.708667</td>\n",
              "      <td>281.583667</td>\n",
              "      <td>275.027229</td>\n",
              "      <td>275.027229</td>\n",
              "      <td>281.583667</td>\n",
              "      <td>275.027229</td>\n",
              "      <td>278.792000</td>\n",
              "      <td>272.708667</td>\n",
              "      <td>272.708667</td>\n",
              "      <td>4274.666667</td>\n",
              "    </tr>\n",
              "    <tr>\n",
              "      <th>3</th>\n",
              "      <td>3</td>\n",
              "      <td>2015-01-01 12:00:00</td>\n",
              "      <td>1.000000</td>\n",
              "      <td>level_8</td>\n",
              "      <td>0.0</td>\n",
              "      <td>1.000000</td>\n",
              "      <td>65.333333</td>\n",
              "      <td>56.333333</td>\n",
              "      <td>0.0</td>\n",
              "      <td>1.000000</td>\n",
              "      <td>0.0</td>\n",
              "      <td>199.666667</td>\n",
              "      <td>2.333333</td>\n",
              "      <td>273.000000</td>\n",
              "      <td>0.0</td>\n",
              "      <td>4.000000</td>\n",
              "      <td>0.0</td>\n",
              "      <td>sp25</td>\n",
              "      <td>0.0</td>\n",
              "      <td>0.0</td>\n",
              "      <td>1037.000000</td>\n",
              "      <td>0.0</td>\n",
              "      <td>0.0</td>\n",
              "      <td>0.0</td>\n",
              "      <td>0.0</td>\n",
              "      <td>800.0</td>\n",
              "      <td>800.0</td>\n",
              "      <td>1036.000000</td>\n",
              "      <td>800.0</td>\n",
              "      <td>1009.000000</td>\n",
              "      <td>285.394000</td>\n",
              "      <td>994.666667</td>\n",
              "      <td>284.899552</td>\n",
              "      <td>284.899552</td>\n",
              "      <td>800.0</td>\n",
              "      <td>285.394000</td>\n",
              "      <td>54.000000</td>\n",
              "      <td>284.899552</td>\n",
              "      <td>283.434104</td>\n",
              "      <td>281.895219</td>\n",
              "      <td>283.434104</td>\n",
              "      <td>281.135063</td>\n",
              "      <td>281.135063</td>\n",
              "      <td>283.434104</td>\n",
              "      <td>281.135063</td>\n",
              "      <td>285.394000</td>\n",
              "      <td>281.895219</td>\n",
              "      <td>281.895219</td>\n",
              "      <td>5075.666667</td>\n",
              "    </tr>\n",
              "    <tr>\n",
              "      <th>4</th>\n",
              "      <td>4</td>\n",
              "      <td>2015-01-01 15:00:00</td>\n",
              "      <td>1.000000</td>\n",
              "      <td>level_7</td>\n",
              "      <td>0.0</td>\n",
              "      <td>1.000000</td>\n",
              "      <td>59.000000</td>\n",
              "      <td>57.000000</td>\n",
              "      <td>2.0</td>\n",
              "      <td>0.333333</td>\n",
              "      <td>0.0</td>\n",
              "      <td>185.000000</td>\n",
              "      <td>4.333333</td>\n",
              "      <td>260.000000</td>\n",
              "      <td>0.0</td>\n",
              "      <td>3.000000</td>\n",
              "      <td>0.0</td>\n",
              "      <td>sp25</td>\n",
              "      <td>0.0</td>\n",
              "      <td>0.0</td>\n",
              "      <td>1035.000000</td>\n",
              "      <td>0.0</td>\n",
              "      <td>0.0</td>\n",
              "      <td>0.0</td>\n",
              "      <td>0.0</td>\n",
              "      <td>800.0</td>\n",
              "      <td>800.0</td>\n",
              "      <td>1035.333333</td>\n",
              "      <td>800.0</td>\n",
              "      <td>NaN</td>\n",
              "      <td>285.513719</td>\n",
              "      <td>1035.333333</td>\n",
              "      <td>283.015115</td>\n",
              "      <td>283.015115</td>\n",
              "      <td>800.0</td>\n",
              "      <td>285.513719</td>\n",
              "      <td>58.333333</td>\n",
              "      <td>283.015115</td>\n",
              "      <td>284.213167</td>\n",
              "      <td>280.678437</td>\n",
              "      <td>284.213167</td>\n",
              "      <td>282.252063</td>\n",
              "      <td>282.252063</td>\n",
              "      <td>284.213167</td>\n",
              "      <td>282.252063</td>\n",
              "      <td>285.513719</td>\n",
              "      <td>280.678437</td>\n",
              "      <td>280.678437</td>\n",
              "      <td>6620.666667</td>\n",
              "    </tr>\n",
              "  </tbody>\n",
              "</table>\n",
              "</div>"
            ],
            "text/plain": [
              "   Unnamed: 0                 time  Madrid_wind_speed Valencia_wind_deg  \\\n",
              "0           0  2015-01-01 03:00:00           0.666667           level_5   \n",
              "1           1  2015-01-01 06:00:00           0.333333          level_10   \n",
              "2           2  2015-01-01 09:00:00           1.000000           level_9   \n",
              "3           3  2015-01-01 12:00:00           1.000000           level_8   \n",
              "4           4  2015-01-01 15:00:00           1.000000           level_7   \n",
              "\n",
              "   Bilbao_rain_1h  Valencia_wind_speed  Seville_humidity  Madrid_humidity  \\\n",
              "0             0.0             0.666667         74.333333        64.000000   \n",
              "1             0.0             1.666667         78.333333        64.666667   \n",
              "2             0.0             1.000000         71.333333        64.333333   \n",
              "3             0.0             1.000000         65.333333        56.333333   \n",
              "4             0.0             1.000000         59.000000        57.000000   \n",
              "\n",
              "   Bilbao_clouds_all  Bilbao_wind_speed  Seville_clouds_all  Bilbao_wind_deg  \\\n",
              "0                0.0           1.000000                 0.0       223.333333   \n",
              "1                0.0           1.000000                 0.0       221.000000   \n",
              "2                0.0           1.000000                 0.0       214.333333   \n",
              "3                0.0           1.000000                 0.0       199.666667   \n",
              "4                2.0           0.333333                 0.0       185.000000   \n",
              "\n",
              "   Barcelona_wind_speed  Barcelona_wind_deg  Madrid_clouds_all  \\\n",
              "0              6.333333           42.666667                0.0   \n",
              "1              4.000000          139.000000                0.0   \n",
              "2              2.000000          326.000000                0.0   \n",
              "3              2.333333          273.000000                0.0   \n",
              "4              4.333333          260.000000                0.0   \n",
              "\n",
              "   Seville_wind_speed  Barcelona_rain_1h Seville_pressure  Seville_rain_1h  \\\n",
              "0            3.333333                0.0             sp25              0.0   \n",
              "1            3.333333                0.0             sp25              0.0   \n",
              "2            2.666667                0.0             sp25              0.0   \n",
              "3            4.000000                0.0             sp25              0.0   \n",
              "4            3.000000                0.0             sp25              0.0   \n",
              "\n",
              "   Bilbao_snow_3h  Barcelona_pressure  Seville_rain_3h  Madrid_rain_1h  \\\n",
              "0             0.0         1036.333333              0.0             0.0   \n",
              "1             0.0         1037.333333              0.0             0.0   \n",
              "2             0.0         1038.000000              0.0             0.0   \n",
              "3             0.0         1037.000000              0.0             0.0   \n",
              "4             0.0         1035.000000              0.0             0.0   \n",
              "\n",
              "   Barcelona_rain_3h  Valencia_snow_3h  Madrid_weather_id  \\\n",
              "0                0.0               0.0              800.0   \n",
              "1                0.0               0.0              800.0   \n",
              "2                0.0               0.0              800.0   \n",
              "3                0.0               0.0              800.0   \n",
              "4                0.0               0.0              800.0   \n",
              "\n",
              "   Barcelona_weather_id  Bilbao_pressure  Seville_weather_id  \\\n",
              "0                 800.0      1035.000000               800.0   \n",
              "1                 800.0      1035.666667               800.0   \n",
              "2                 800.0      1036.000000               800.0   \n",
              "3                 800.0      1036.000000               800.0   \n",
              "4                 800.0      1035.333333               800.0   \n",
              "\n",
              "   Valencia_pressure  Seville_temp_max  Madrid_pressure  Valencia_temp_max  \\\n",
              "0        1002.666667        274.254667       971.333333         269.888000   \n",
              "1        1004.333333        274.945000       972.666667         271.728333   \n",
              "2        1005.333333        278.792000       974.000000         278.008667   \n",
              "3        1009.000000        285.394000       994.666667         284.899552   \n",
              "4                NaN        285.513719      1035.333333         283.015115   \n",
              "\n",
              "   Valencia_temp  Bilbao_weather_id  Seville_temp  Valencia_humidity  \\\n",
              "0     269.888000              800.0    274.254667          75.666667   \n",
              "1     271.728333              800.0    274.945000          71.000000   \n",
              "2     278.008667              800.0    278.792000          65.666667   \n",
              "3     284.899552              800.0    285.394000          54.000000   \n",
              "4     283.015115              800.0    285.513719          58.333333   \n",
              "\n",
              "   Valencia_temp_min  Barcelona_temp_max  Madrid_temp_max  Barcelona_temp  \\\n",
              "0         269.888000          281.013000       265.938000      281.013000   \n",
              "1         271.728333          280.561667       266.386667      280.561667   \n",
              "2         278.008667          281.583667       272.708667      281.583667   \n",
              "3         284.899552          283.434104       281.895219      283.434104   \n",
              "4         283.015115          284.213167       280.678437      284.213167   \n",
              "\n",
              "   Bilbao_temp_min  Bilbao_temp  Barcelona_temp_min  Bilbao_temp_max  \\\n",
              "0       269.338615   269.338615          281.013000       269.338615   \n",
              "1       270.376000   270.376000          280.561667       270.376000   \n",
              "2       275.027229   275.027229          281.583667       275.027229   \n",
              "3       281.135063   281.135063          283.434104       281.135063   \n",
              "4       282.252063   282.252063          284.213167       282.252063   \n",
              "\n",
              "   Seville_temp_min  Madrid_temp  Madrid_temp_min  load_shortfall_3h  \n",
              "0        274.254667   265.938000       265.938000        6715.666667  \n",
              "1        274.945000   266.386667       266.386667        4171.666667  \n",
              "2        278.792000   272.708667       272.708667        4274.666667  \n",
              "3        285.394000   281.895219       281.895219        5075.666667  \n",
              "4        285.513719   280.678437       280.678437        6620.666667  "
            ]
          },
          "execution_count": 77,
          "metadata": {},
          "output_type": "execute_result"
        }
      ]
    },
    {
      "cell_type": "markdown",
      "metadata": {
        "id": "c2773664"
      },
      "source": [
        "* #### Check for Missing Values\n",
        "\n"
      ],
      "id": "c2773664"
    },
    {
      "cell_type": "markdown",
      "metadata": {
        "id": "0cedeb18"
      },
      "source": [
        "This is done so that we may know whether to remove the column or to impute data."
      ],
      "id": "0cedeb18"
    },
    {
      "cell_type": "code",
      "metadata": {
        "id": "7ae98a94",
        "outputId": "46364e4a-8c41-4564-cb96-3e29351eb956"
      },
      "source": [
        "# checking for the percentage of missing data\n",
        "\n",
        "round((df_concat.isnull().sum()/df_concat.shape[0])\n",
        "      *100,2).astype(str)+ ' %'"
      ],
      "id": "7ae98a94",
      "execution_count": null,
      "outputs": [
        {
          "data": {
            "text/plain": [
              "Unnamed: 0                0.0 %\n",
              "time                      0.0 %\n",
              "Madrid_wind_speed         0.0 %\n",
              "Valencia_wind_deg         0.0 %\n",
              "Bilbao_rain_1h            0.0 %\n",
              "Valencia_wind_speed       0.0 %\n",
              "Seville_humidity          0.0 %\n",
              "Madrid_humidity           0.0 %\n",
              "Bilbao_clouds_all         0.0 %\n",
              "Bilbao_wind_speed         0.0 %\n",
              "Seville_clouds_all        0.0 %\n",
              "Bilbao_wind_deg           0.0 %\n",
              "Barcelona_wind_speed      0.0 %\n",
              "Barcelona_wind_deg        0.0 %\n",
              "Madrid_clouds_all         0.0 %\n",
              "Seville_wind_speed        0.0 %\n",
              "Barcelona_rain_1h         0.0 %\n",
              "Seville_pressure          0.0 %\n",
              "Seville_rain_1h           0.0 %\n",
              "Bilbao_snow_3h            0.0 %\n",
              "Barcelona_pressure        0.0 %\n",
              "Seville_rain_3h           0.0 %\n",
              "Madrid_rain_1h            0.0 %\n",
              "Barcelona_rain_3h         0.0 %\n",
              "Valencia_snow_3h          0.0 %\n",
              "Madrid_weather_id         0.0 %\n",
              "Barcelona_weather_id      0.0 %\n",
              "Bilbao_pressure           0.0 %\n",
              "Seville_weather_id        0.0 %\n",
              "Valencia_pressure       21.59 %\n",
              "Seville_temp_max          0.0 %\n",
              "Madrid_pressure           0.0 %\n",
              "Valencia_temp_max         0.0 %\n",
              "Valencia_temp             0.0 %\n",
              "Bilbao_weather_id         0.0 %\n",
              "Seville_temp              0.0 %\n",
              "Valencia_humidity         0.0 %\n",
              "Valencia_temp_min         0.0 %\n",
              "Barcelona_temp_max        0.0 %\n",
              "Madrid_temp_max           0.0 %\n",
              "Barcelona_temp            0.0 %\n",
              "Bilbao_temp_min           0.0 %\n",
              "Bilbao_temp               0.0 %\n",
              "Barcelona_temp_min        0.0 %\n",
              "Bilbao_temp_max           0.0 %\n",
              "Seville_temp_min          0.0 %\n",
              "Madrid_temp               0.0 %\n",
              "Madrid_temp_min           0.0 %\n",
              "load_shortfall_3h       24.99 %\n",
              "dtype: object"
            ]
          },
          "execution_count": 78,
          "metadata": {},
          "output_type": "execute_result"
        }
      ]
    },
    {
      "cell_type": "markdown",
      "metadata": {
        "id": "b71cb41a"
      },
      "source": [
        "#### Key Findings:\n",
        "* The feature ‘Valencia_pressure’ has 21.59% missing which can be imputed.\n",
        "* ‘load_shortfall_3h’ has 24.99% missing data, but this is the part of test data that was concatenated which is not necessarily needed."
      ],
      "id": "b71cb41a"
    },
    {
      "cell_type": "code",
      "metadata": {
        "id": "a695065e"
      },
      "source": [
        "# Impute missing values for Valencia_pressure with mode\n",
        "\n",
        "df_concat['Valencia_pressure'].fillna(statistics.mode(df_concat['Valencia_pressure'])\n",
        "                                   , inplace = True)"
      ],
      "id": "a695065e",
      "execution_count": null,
      "outputs": []
    },
    {
      "cell_type": "markdown",
      "metadata": {
        "id": "50f473ab"
      },
      "source": [
        "The missing values for pressure were imputed using the mode because, naturally pressure does not vary by a significant quantity. "
      ],
      "id": "50f473ab"
    },
    {
      "cell_type": "markdown",
      "metadata": {
        "id": "e2796677"
      },
      "source": [
        "* #### Checking that there are no missing values on columns other than load_shortfall_3h"
      ],
      "id": "e2796677"
    },
    {
      "cell_type": "code",
      "metadata": {
        "id": "c1f7464f",
        "outputId": "9d89aa33-c72f-49ac-e704-e3d81918fb0b"
      },
      "source": [
        "# checking for the percentage of missing data\n",
        "\n",
        "round((df_concat.isnull().sum()/df_concat.shape[0])\n",
        "      *100,2).astype(str)+ ' %'"
      ],
      "id": "c1f7464f",
      "execution_count": null,
      "outputs": [
        {
          "data": {
            "text/plain": [
              "Unnamed: 0                0.0 %\n",
              "time                      0.0 %\n",
              "Madrid_wind_speed         0.0 %\n",
              "Valencia_wind_deg         0.0 %\n",
              "Bilbao_rain_1h            0.0 %\n",
              "Valencia_wind_speed       0.0 %\n",
              "Seville_humidity          0.0 %\n",
              "Madrid_humidity           0.0 %\n",
              "Bilbao_clouds_all         0.0 %\n",
              "Bilbao_wind_speed         0.0 %\n",
              "Seville_clouds_all        0.0 %\n",
              "Bilbao_wind_deg           0.0 %\n",
              "Barcelona_wind_speed      0.0 %\n",
              "Barcelona_wind_deg        0.0 %\n",
              "Madrid_clouds_all         0.0 %\n",
              "Seville_wind_speed        0.0 %\n",
              "Barcelona_rain_1h         0.0 %\n",
              "Seville_pressure          0.0 %\n",
              "Seville_rain_1h           0.0 %\n",
              "Bilbao_snow_3h            0.0 %\n",
              "Barcelona_pressure        0.0 %\n",
              "Seville_rain_3h           0.0 %\n",
              "Madrid_rain_1h            0.0 %\n",
              "Barcelona_rain_3h         0.0 %\n",
              "Valencia_snow_3h          0.0 %\n",
              "Madrid_weather_id         0.0 %\n",
              "Barcelona_weather_id      0.0 %\n",
              "Bilbao_pressure           0.0 %\n",
              "Seville_weather_id        0.0 %\n",
              "Valencia_pressure         0.0 %\n",
              "Seville_temp_max          0.0 %\n",
              "Madrid_pressure           0.0 %\n",
              "Valencia_temp_max         0.0 %\n",
              "Valencia_temp             0.0 %\n",
              "Bilbao_weather_id         0.0 %\n",
              "Seville_temp              0.0 %\n",
              "Valencia_humidity         0.0 %\n",
              "Valencia_temp_min         0.0 %\n",
              "Barcelona_temp_max        0.0 %\n",
              "Madrid_temp_max           0.0 %\n",
              "Barcelona_temp            0.0 %\n",
              "Bilbao_temp_min           0.0 %\n",
              "Bilbao_temp               0.0 %\n",
              "Barcelona_temp_min        0.0 %\n",
              "Bilbao_temp_max           0.0 %\n",
              "Seville_temp_min          0.0 %\n",
              "Madrid_temp               0.0 %\n",
              "Madrid_temp_min           0.0 %\n",
              "load_shortfall_3h       24.99 %\n",
              "dtype: object"
            ]
          },
          "execution_count": 80,
          "metadata": {},
          "output_type": "execute_result"
        }
      ]
    },
    {
      "cell_type": "code",
      "metadata": {
        "id": "c3cf23fd",
        "outputId": "f6d27078-457c-4aef-b358-d8d471d4b015"
      },
      "source": [
        "df_concat.info()"
      ],
      "id": "c3cf23fd",
      "execution_count": null,
      "outputs": [
        {
          "name": "stdout",
          "output_type": "stream",
          "text": [
            "<class 'pandas.core.frame.DataFrame'>\n",
            "Int64Index: 11683 entries, 0 to 2919\n",
            "Data columns (total 49 columns):\n",
            " #   Column                Non-Null Count  Dtype  \n",
            "---  ------                --------------  -----  \n",
            " 0   Unnamed: 0            11683 non-null  int64  \n",
            " 1   time                  11683 non-null  object \n",
            " 2   Madrid_wind_speed     11683 non-null  float64\n",
            " 3   Valencia_wind_deg     11683 non-null  object \n",
            " 4   Bilbao_rain_1h        11683 non-null  float64\n",
            " 5   Valencia_wind_speed   11683 non-null  float64\n",
            " 6   Seville_humidity      11683 non-null  float64\n",
            " 7   Madrid_humidity       11683 non-null  float64\n",
            " 8   Bilbao_clouds_all     11683 non-null  float64\n",
            " 9   Bilbao_wind_speed     11683 non-null  float64\n",
            " 10  Seville_clouds_all    11683 non-null  float64\n",
            " 11  Bilbao_wind_deg       11683 non-null  float64\n",
            " 12  Barcelona_wind_speed  11683 non-null  float64\n",
            " 13  Barcelona_wind_deg    11683 non-null  float64\n",
            " 14  Madrid_clouds_all     11683 non-null  float64\n",
            " 15  Seville_wind_speed    11683 non-null  float64\n",
            " 16  Barcelona_rain_1h     11683 non-null  float64\n",
            " 17  Seville_pressure      11683 non-null  object \n",
            " 18  Seville_rain_1h       11683 non-null  float64\n",
            " 19  Bilbao_snow_3h        11683 non-null  float64\n",
            " 20  Barcelona_pressure    11683 non-null  float64\n",
            " 21  Seville_rain_3h       11683 non-null  float64\n",
            " 22  Madrid_rain_1h        11683 non-null  float64\n",
            " 23  Barcelona_rain_3h     11683 non-null  float64\n",
            " 24  Valencia_snow_3h      11683 non-null  float64\n",
            " 25  Madrid_weather_id     11683 non-null  float64\n",
            " 26  Barcelona_weather_id  11683 non-null  float64\n",
            " 27  Bilbao_pressure       11683 non-null  float64\n",
            " 28  Seville_weather_id    11683 non-null  float64\n",
            " 29  Valencia_pressure     11683 non-null  float64\n",
            " 30  Seville_temp_max      11683 non-null  float64\n",
            " 31  Madrid_pressure       11683 non-null  float64\n",
            " 32  Valencia_temp_max     11683 non-null  float64\n",
            " 33  Valencia_temp         11683 non-null  float64\n",
            " 34  Bilbao_weather_id     11683 non-null  float64\n",
            " 35  Seville_temp          11683 non-null  float64\n",
            " 36  Valencia_humidity     11683 non-null  float64\n",
            " 37  Valencia_temp_min     11683 non-null  float64\n",
            " 38  Barcelona_temp_max    11683 non-null  float64\n",
            " 39  Madrid_temp_max       11683 non-null  float64\n",
            " 40  Barcelona_temp        11683 non-null  float64\n",
            " 41  Bilbao_temp_min       11683 non-null  float64\n",
            " 42  Bilbao_temp           11683 non-null  float64\n",
            " 43  Barcelona_temp_min    11683 non-null  float64\n",
            " 44  Bilbao_temp_max       11683 non-null  float64\n",
            " 45  Seville_temp_min      11683 non-null  float64\n",
            " 46  Madrid_temp           11683 non-null  float64\n",
            " 47  Madrid_temp_min       11683 non-null  float64\n",
            " 48  load_shortfall_3h     8763 non-null   float64\n",
            "dtypes: float64(45), int64(1), object(3)\n",
            "memory usage: 4.5+ MB\n"
          ]
        }
      ]
    },
    {
      "cell_type": "markdown",
      "metadata": {
        "id": "02a26ce2"
      },
      "source": [
        "#### Key Findings:\n",
        "\n",
        "* Indeed only ‘load_shortfall_3h’ reflects 24.99% of missing data, which is what we expected as shown by Non-Null Count."
      ],
      "id": "02a26ce2"
    },
    {
      "cell_type": "markdown",
      "metadata": {
        "id": "0bfd2a61"
      },
      "source": [
        "* #### Deleting irrelevant column(s)"
      ],
      "id": "0bfd2a61"
    },
    {
      "cell_type": "markdown",
      "metadata": {
        "id": "0c549569"
      },
      "source": [
        "They need to be removed because they have no relavancy to our data set as they are not included in the information supplied."
      ],
      "id": "0c549569"
    },
    {
      "cell_type": "code",
      "metadata": {
        "id": "eb623ea2"
      },
      "source": [
        "# Dropping the 'Unnamed: 0' column\n",
        "\n",
        "df_concat.drop(['Unnamed: 0'], inplace = True, axis = 1)"
      ],
      "id": "eb623ea2",
      "execution_count": null,
      "outputs": []
    },
    {
      "cell_type": "markdown",
      "metadata": {
        "id": "9628c952"
      },
      "source": [
        "# Exploratory Data Analysis"
      ],
      "id": "9628c952"
    },
    {
      "cell_type": "code",
      "metadata": {
        "id": "27d05f11"
      },
      "source": [
        ""
      ],
      "id": "27d05f11",
      "execution_count": null,
      "outputs": []
    },
    {
      "cell_type": "code",
      "metadata": {
        "id": "d395891a"
      },
      "source": [
        ""
      ],
      "id": "d395891a",
      "execution_count": null,
      "outputs": []
    },
    {
      "cell_type": "code",
      "metadata": {
        "id": "dbbe42e0"
      },
      "source": [
        ""
      ],
      "id": "dbbe42e0",
      "execution_count": null,
      "outputs": []
    },
    {
      "cell_type": "markdown",
      "metadata": {
        "id": "f6cd1af1"
      },
      "source": [
        "# Feature Engineering"
      ],
      "id": "f6cd1af1"
    },
    {
      "cell_type": "code",
      "metadata": {
        "id": "a0a875ac"
      },
      "source": [
        "# Keeping a clean copy of our dataframe\n",
        "\n",
        "df_clean = df_concat.copy()"
      ],
      "id": "a0a875ac",
      "execution_count": null,
      "outputs": []
    },
    {
      "cell_type": "markdown",
      "metadata": {
        "id": "dab21088"
      },
      "source": [
        "#### Engineering new features from the 'time' feature\n",
        "\n",
        "As shown by one of the plots, time has a relationship with the load_shortfall_3h. These are separated into four, i.e year, month, day and hour features."
      ],
      "id": "dab21088"
    },
    {
      "cell_type": "code",
      "metadata": {
        "id": "02f1117c"
      },
      "source": [
        "# Changing 'time' date type from object to 'datetime64'\n",
        "\n",
        "df_clean['time'] = pd.to_datetime(df_clean['time'])\n",
        "\n",
        "# Creating new features\n",
        "\n",
        "df_clean['year'] = df_clean['time'].dt.year # year feature\n",
        "\n",
        "df_clean['month'] = df_clean['time'].dt.month # month feature\n",
        "\n",
        "df_clean['day'] = df_clean['time'].dt.day # day\n",
        "\n",
        "df_clean['hour'] = df_clean['time'].dt.hour #hour"
      ],
      "id": "02f1117c",
      "execution_count": null,
      "outputs": []
    },
    {
      "cell_type": "code",
      "metadata": {
        "id": "71c8f273"
      },
      "source": [
        ""
      ],
      "id": "71c8f273",
      "execution_count": null,
      "outputs": []
    },
    {
      "cell_type": "markdown",
      "metadata": {
        "id": "f4ba4b07"
      },
      "source": [
        "#### Changing Categorical Data into Numeric data\n",
        "\n",
        "All input data for regression model building purposes needs to be numerical."
      ],
      "id": "f4ba4b07"
    },
    {
      "cell_type": "code",
      "metadata": {
        "id": "30369516"
      },
      "source": [
        "#Extracting numbers from Valencia_wind_deg \n",
        "\n",
        "df_clean['Valencia_wind_deg'] = df_clean['Valencia_wind_deg'].str.extract('(\\d+)')\n",
        "\n",
        "#Changing Valencia_wind_deg data type from object to numeric\n",
        "\n",
        "df_clean['Valencia_wind_deg'] = pd.to_numeric(df_clean['Valencia_wind_deg'])\n",
        "\n",
        "#Extracting numbers from Seville_pressure\n",
        "  \n",
        "df_clean['Seville_pressure'] = df_clean['Seville_pressure'].str.extract('(\\d+)')\n",
        "\n",
        "#Changing Seville_pressure data type from object to numeric\n",
        "\n",
        "df_clean['Seville_pressure'] = pd.to_numeric(df_clean['Seville_pressure'])"
      ],
      "id": "30369516",
      "execution_count": null,
      "outputs": []
    },
    {
      "cell_type": "code",
      "metadata": {
        "id": "cdb85b7a"
      },
      "source": [
        ""
      ],
      "id": "cdb85b7a",
      "execution_count": null,
      "outputs": []
    },
    {
      "cell_type": "code",
      "metadata": {
        "id": "d1bb6c6e"
      },
      "source": [
        ""
      ],
      "id": "d1bb6c6e",
      "execution_count": null,
      "outputs": []
    },
    {
      "cell_type": "markdown",
      "metadata": {
        "id": "009bea54"
      },
      "source": [
        "# Feature Selection"
      ],
      "id": "009bea54"
    },
    {
      "cell_type": "code",
      "metadata": {
        "id": "88487eed"
      },
      "source": [
        "\n"
      ],
      "id": "88487eed",
      "execution_count": null,
      "outputs": []
    },
    {
      "cell_type": "code",
      "metadata": {
        "id": "5710cb39"
      },
      "source": [
        ""
      ],
      "id": "5710cb39",
      "execution_count": null,
      "outputs": []
    },
    {
      "cell_type": "code",
      "metadata": {
        "id": "12a19183"
      },
      "source": [
        ""
      ],
      "id": "12a19183",
      "execution_count": null,
      "outputs": []
    },
    {
      "cell_type": "code",
      "metadata": {
        "id": "d0239287"
      },
      "source": [
        ""
      ],
      "id": "d0239287",
      "execution_count": null,
      "outputs": []
    },
    {
      "cell_type": "code",
      "metadata": {
        "id": "44160424"
      },
      "source": [
        ""
      ],
      "id": "44160424",
      "execution_count": null,
      "outputs": []
    },
    {
      "cell_type": "code",
      "metadata": {
        "id": "8d96e43b"
      },
      "source": [
        ""
      ],
      "id": "8d96e43b",
      "execution_count": null,
      "outputs": []
    },
    {
      "cell_type": "code",
      "metadata": {
        "id": "31b912d1"
      },
      "source": [
        ""
      ],
      "id": "31b912d1",
      "execution_count": null,
      "outputs": []
    },
    {
      "cell_type": "code",
      "metadata": {
        "id": "1e245f8c"
      },
      "source": [
        ""
      ],
      "id": "1e245f8c",
      "execution_count": null,
      "outputs": []
    },
    {
      "cell_type": "code",
      "metadata": {
        "id": "dd71262f"
      },
      "source": [
        ""
      ],
      "id": "dd71262f",
      "execution_count": null,
      "outputs": []
    },
    {
      "cell_type": "code",
      "metadata": {
        "id": "e0915638"
      },
      "source": [
        ""
      ],
      "id": "e0915638",
      "execution_count": null,
      "outputs": []
    },
    {
      "cell_type": "code",
      "metadata": {
        "id": "8e7019d8"
      },
      "source": [
        ""
      ],
      "id": "8e7019d8",
      "execution_count": null,
      "outputs": []
    },
    {
      "cell_type": "code",
      "metadata": {
        "id": "4e3d4b2d"
      },
      "source": [
        ""
      ],
      "id": "4e3d4b2d",
      "execution_count": null,
      "outputs": []
    },
    {
      "cell_type": "markdown",
      "metadata": {
        "id": "1ccc3a89"
      },
      "source": [
        "Next step is to do a data scaling to allow our features to be on the same scale. As shown by the our analysis of our data using 'kurtosis', our data has some outliers. Normalisation will not be a good thing to do, because the problem with normalisation, is that if there are outliers, the bulk of our data will all lie in a small range, so we would lose information.\n",
        "\n",
        "standardisation, on the other hand, does not suffer from this drawback as it deals outliers efficiently. Our features can now take on a range which includes negative values, centred around the mean of zero. This means that all our variables won't be bound to the exact same range."
      ],
      "id": "1ccc3a89"
    },
    {
      "cell_type": "code",
      "metadata": {
        "id": "61acd7db"
      },
      "source": [
        "# Scaling the data \n",
        "\n",
        "scaler = StandardScaler()\n",
        "\n",
        "X_scaled = scaler.fit_transform(X)\n",
        "\n",
        "X_test_Scaled = scaler.fit_transform(X_t)"
      ],
      "id": "61acd7db",
      "execution_count": null,
      "outputs": []
    },
    {
      "cell_type": "markdown",
      "metadata": {
        "id": "c11a12e1"
      },
      "source": [
        "We apply 'train_test_split' to split the data into train and test data. 80% is reserved for training and 20% for testing our model. This allows us to monitor the performance of our model."
      ],
      "id": "c11a12e1"
    },
    {
      "cell_type": "code",
      "metadata": {
        "id": "dbfa5598"
      },
      "source": [
        "# Train-test split\n",
        "\n",
        "X_train, X_test, y_train, y_test = train_test_split(X_scaled,\n",
        "                                                    y,\n",
        "                                                    test_size = 0.20,\n",
        "                                                    random_state = 42,\n",
        "                                                    shuffle = True)\n"
      ],
      "id": "dbfa5598",
      "execution_count": null,
      "outputs": []
    },
    {
      "cell_type": "markdown",
      "metadata": {
        "id": "a4a1453d"
      },
      "source": [
        "# Model Training"
      ],
      "id": "a4a1453d"
    },
    {
      "cell_type": "markdown",
      "metadata": {
        "id": "4f69208e"
      },
      "source": [
        "We will train different models on the training data."
      ],
      "id": "4f69208e"
    },
    {
      "cell_type": "code",
      "metadata": {
        "id": "e3aa49bd",
        "outputId": "e710ffdd-4dcf-4b72-ff20-696f63067bd0"
      },
      "source": [
        "# Creating the linear regression model \n",
        "\n",
        "l_model = LinearRegression() #create the model\n",
        "\n",
        "l_model.fit(X_train, y_train) #train the model\n",
        "\n"
      ],
      "id": "e3aa49bd",
      "execution_count": null,
      "outputs": [
        {
          "data": {
            "text/plain": [
              "LinearRegression()"
            ]
          },
          "execution_count": 36,
          "metadata": {},
          "output_type": "execute_result"
        }
      ]
    },
    {
      "cell_type": "code",
      "metadata": {
        "id": "0b6e10b6",
        "outputId": "f95f8437-f720-461e-d04f-2b32362682b8"
      },
      "source": [
        "# Creating the Ridge model\n",
        "\n",
        "ridge_model = Ridge() #create the model\n",
        "\n",
        "ridge_model.fit(X_train, y_train) #train the model"
      ],
      "id": "0b6e10b6",
      "execution_count": null,
      "outputs": [
        {
          "data": {
            "text/plain": [
              "Ridge()"
            ]
          },
          "execution_count": 37,
          "metadata": {},
          "output_type": "execute_result"
        }
      ]
    },
    {
      "cell_type": "code",
      "metadata": {
        "id": "dd97f1ed",
        "outputId": "f479f839-d7c9-44d0-a677-1848e6d64f22"
      },
      "source": [
        "# Creating the LASSO model, setting alpha to 0.01\n",
        "\n",
        "lasso_model = Lasso(alpha = 0.01) #create the model\n",
        "\n",
        "lasso_model.fit(X_train,y_train) #train the model\n"
      ],
      "id": "dd97f1ed",
      "execution_count": null,
      "outputs": [
        {
          "data": {
            "text/plain": [
              "Lasso(alpha=0.01)"
            ]
          },
          "execution_count": 38,
          "metadata": {},
          "output_type": "execute_result"
        }
      ]
    },
    {
      "cell_type": "code",
      "metadata": {
        "id": "f3473b6c",
        "outputId": "4d4859a0-9dba-4868-b474-5e0c08d49698"
      },
      "source": [
        "# Creating the Regression Tree model with maximum depth of 2\n",
        "\n",
        "regr_tree = DecisionTreeRegressor( max_depth = 3,random_state = 42) #create the model\n",
        "\n",
        "regr_tree.fit(X_train,y_train) #train the model\n",
        "\n"
      ],
      "id": "f3473b6c",
      "execution_count": null,
      "outputs": [
        {
          "data": {
            "text/plain": [
              "DecisionTreeRegressor(max_depth=3, random_state=42)"
            ]
          },
          "execution_count": 39,
          "metadata": {},
          "output_type": "execute_result"
        }
      ]
    },
    {
      "cell_type": "markdown",
      "metadata": {
        "id": "99f5d344"
      },
      "source": [
        "# Model's predictive accuracy assessment"
      ],
      "id": "99f5d344"
    },
    {
      "cell_type": "markdown",
      "metadata": {
        "id": "07ced0cf"
      },
      "source": [
        "We compare the RMSE for the train data and for test data. We also compare using a plot."
      ],
      "id": "07ced0cf"
    },
    {
      "cell_type": "code",
      "metadata": {
        "id": "e3244173"
      },
      "source": [
        "# LinearRegression predictions\n",
        "\n",
        "lr_train = l_model.predict(X_train) #predict y_train\n",
        "\n",
        "lr_test = l_model.predict(X_test) #predict y_test"
      ],
      "id": "e3244173",
      "execution_count": null,
      "outputs": []
    },
    {
      "cell_type": "code",
      "metadata": {
        "id": "973f3987"
      },
      "source": [
        "# Ridge prediction\n",
        "\n",
        "train_ridge = ridge_model.predict(X_train) #predict y_train\n",
        "\n",
        "test_ridge = ridge_model.predict(X_test) #predict y_test\n"
      ],
      "id": "973f3987",
      "execution_count": null,
      "outputs": []
    },
    {
      "cell_type": "code",
      "metadata": {
        "id": "e8b5d410"
      },
      "source": [
        "# LASSO prediction\n",
        "\n",
        "train_lasso = lasso_model.predict(X_train) #predict y_train\n",
        "\n",
        "test_lasso = lasso_model.predict(X_test) #predict y_test\n"
      ],
      "id": "e8b5d410",
      "execution_count": null,
      "outputs": []
    },
    {
      "cell_type": "code",
      "metadata": {
        "id": "7c9dc111"
      },
      "source": [
        ""
      ],
      "id": "7c9dc111",
      "execution_count": null,
      "outputs": []
    },
    {
      "cell_type": "code",
      "metadata": {
        "id": "8a2a8fb4"
      },
      "source": [
        "# Decision Tree prediction\n",
        "\n",
        "regr_tree_train = regr_tree.predict(X_train) #predict y_train\n",
        "\n",
        "regr_tree_test = regr_tree.predict(X_test) #predict y_test"
      ],
      "id": "8a2a8fb4",
      "execution_count": null,
      "outputs": []
    },
    {
      "cell_type": "markdown",
      "metadata": {
        "id": "9a89e89d"
      },
      "source": [
        "Let's put the results into a dictionary."
      ],
      "id": "9a89e89d"
    },
    {
      "cell_type": "code",
      "metadata": {
        "id": "cf544931"
      },
      "source": [
        "# Dictionary of results\n",
        "results_dict = {'Training RMSE':\n",
        "                    {\n",
        "                        \"LinearRegression\": np.sqrt(metrics.mean_squared_error(y_train, lr_train)),\n",
        "                        \"Ridge\": metrics.mean_squared_error(y_train, train_ridge),\n",
        "                        \"LASSO\": metrics.mean_squared_error(y_train, train_lasso),\n",
        "                        \"Decision Tree\": metrics.mean_squared_error(y_train, regr_tree_train)\n",
        "                    },\n",
        "                    'Test RMSE':\n",
        "                    {\n",
        "                        \"LinearRegression\": np.sqrt(metrics.mean_squared_error(y_test, lr_test)),\n",
        "                        \"Ridge\": metrics.mean_squared_error(y_test, test_ridge),\n",
        "                        \"LASSO\": metrics.mean_squared_error(y_test, test_lasso),\n",
        "                        \"Decision Tree\": metrics.mean_squared_error(y_test, regr_tree_test)\n",
        "                    }\n",
        "                }"
      ],
      "id": "cf544931",
      "execution_count": null,
      "outputs": []
    },
    {
      "cell_type": "code",
      "metadata": {
        "id": "945a9554"
      },
      "source": [
        "# Create dataframe from dictionary\n",
        "\n",
        "results_df = pd.DataFrame(data = results_dict)"
      ],
      "id": "945a9554",
      "execution_count": null,
      "outputs": []
    },
    {
      "cell_type": "markdown",
      "metadata": {
        "id": "42722d2d"
      },
      "source": [
        "We'll plot the the test set versus four methods:\n",
        "\n",
        "- LinearRegression\n",
        "- Ridge \n",
        "- LASSO \n",
        "- Decision Tree."
      ],
      "id": "42722d2d"
    },
    {
      "cell_type": "code",
      "metadata": {
        "id": "8105d2e1"
      },
      "source": [
        "#plt.plot(np.arange(96,120), lasso_model.predict(X_test), label = 'LASSO')\n",
        "#plt.plot(np.arange(96,120), ridge_model.predict(X_test), label = 'Ridge')\n",
        "#plt.plot(np.arange(96,120), l_model.predict(X_test), label = 'LinearRegression')\n",
        "#plt.plot(np.arange(96,120), regr_tree.predict(X_test), label = 'Decision Tree')\n",
        "#plt.plot(np.arange(96,120), y_test, label = 'Testing')\n",
        "#plt.legend()\n",
        "\n",
        "#plt.show()"
      ],
      "id": "8105d2e1",
      "execution_count": null,
      "outputs": []
    },
    {
      "cell_type": "code",
      "metadata": {
        "id": "79fc912d"
      },
      "source": [
        "Ridged = ridge_model.predict(X_test_Scaled)\n",
        "\n",
        "regr_tre = regr_tree.predict(X_test_Scaled)\n",
        "\n",
        "lasso_mod = lasso_model.predict(X_test_Scaled)\n",
        "\n",
        "lr_model = l_model.predict(X_test_Scaled)"
      ],
      "id": "79fc912d",
      "execution_count": null,
      "outputs": []
    },
    {
      "cell_type": "code",
      "metadata": {
        "id": "a9fd1e9d"
      },
      "source": [
        "dict_ = {'Ridge': Ridged, \n",
        "         'Decision Tree': regr_tre,\n",
        "         'LASSO' : lasso_mod,\n",
        "         'Linear Regression' :lr_model\n",
        "        }"
      ],
      "id": "a9fd1e9d",
      "execution_count": null,
      "outputs": []
    },
    {
      "cell_type": "code",
      "metadata": {
        "id": "472de352"
      },
      "source": [
        "Results_ = pd.DataFrame(data = dict_)"
      ],
      "id": "472de352",
      "execution_count": null,
      "outputs": []
    },
    {
      "cell_type": "code",
      "metadata": {
        "id": "f51da758"
      },
      "source": [
        "pre_dict = {'time':Time,'load_shortfall_3h': lasso_mod} # dictionary containing predicted values\n",
        "\n",
        "predict_ed = pd.DataFrame(pre_dict) # dataframe with the date and load_shortfall_3h\n",
        "\n",
        "predict_ed.to_csv('Te_1.csv',index = False)"
      ],
      "id": "f51da758",
      "execution_count": null,
      "outputs": []
    },
    {
      "cell_type": "code",
      "metadata": {
        "id": "33f9792b"
      },
      "source": [
        "\n",
        "\n",
        "\n",
        "\n"
      ],
      "id": "33f9792b",
      "execution_count": null,
      "outputs": []
    },
    {
      "cell_type": "code",
      "metadata": {
        "id": "c43ef3ec"
      },
      "source": [
        "\n",
        "\n"
      ],
      "id": "c43ef3ec",
      "execution_count": null,
      "outputs": []
    },
    {
      "cell_type": "code",
      "metadata": {
        "id": "4e9b0211"
      },
      "source": [
        ""
      ],
      "id": "4e9b0211",
      "execution_count": null,
      "outputs": []
    },
    {
      "cell_type": "code",
      "metadata": {
        "id": "57ad1773"
      },
      "source": [
        ""
      ],
      "id": "57ad1773",
      "execution_count": null,
      "outputs": []
    },
    {
      "cell_type": "code",
      "metadata": {
        "id": "a2f0553b"
      },
      "source": [
        ""
      ],
      "id": "a2f0553b",
      "execution_count": null,
      "outputs": []
    },
    {
      "cell_type": "code",
      "metadata": {
        "id": "259e0c1e"
      },
      "source": [
        ""
      ],
      "id": "259e0c1e",
      "execution_count": null,
      "outputs": []
    }
  ]
}